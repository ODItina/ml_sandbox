{
 "cells": [
  {
   "cell_type": "code",
   "execution_count": 42,
   "id": "f4793d76",
   "metadata": {},
   "outputs": [],
   "source": [
    "import pandas as pd\n",
    "from sklearn.tree import DecisionTreeClassifier\n",
    "from sklearn.model_selection import train_test_split\n",
    "# from sklearn.metrics import accuracy_score\n",
    "import joblib\n",
    "from sklearn import tree\n",
    "\n",
    "# music_data = pd.read_csv('../datasets/music.csv')\n",
    "# X = music_data.drop(columns=['genre'])\n",
    "# y = music_data['genre']\n",
    "# # allocate 20% of data for testing\n",
    "# X_train, X_test, y_train, y_test = train_test_split(X, y, test_size=0.2)\n",
    "\n",
    "# model = DecisionTreeClassifier()\n",
    "# model.fit(X_train.values, y_train.values)\n",
    "#presist model\n",
    "\n",
    "# joblib.dump(model, 'music-recommender.joblib')\n",
    "model = joblib.load('music-recommender.joblib')\n",
    "\n",
    "#vizualize model\n",
    "tree.export_graphviz(model, out_file='music-recommender.dot',\n",
    "                    feature_names=['age', 'gender'], \n",
    "                    class_names=sorted(y.unique()), #class names are set to each unique list of y\n",
    "                    label='all', #every node has readable labels\n",
    "                    rounded=True, #each node has rounded corners\n",
    "                    filled=True) #fills each node us filled with a colour\n",
    "# makes prediction\n",
    "# predictions = model.predict([ [21, 0] ])\n",
    "\n",
    "# predictions = model.predict(X_test.values)\n",
    "\n",
    "# predictions"
   ]
  }
 ],
 "metadata": {
  "kernelspec": {
   "display_name": "Python 3 (ipykernel)",
   "language": "python",
   "name": "python3"
  },
  "language_info": {
   "codemirror_mode": {
    "name": "ipython",
    "version": 3
   },
   "file_extension": ".py",
   "mimetype": "text/x-python",
   "name": "python",
   "nbconvert_exporter": "python",
   "pygments_lexer": "ipython3",
   "version": "3.11.3"
  }
 },
 "nbformat": 4,
 "nbformat_minor": 5
}
